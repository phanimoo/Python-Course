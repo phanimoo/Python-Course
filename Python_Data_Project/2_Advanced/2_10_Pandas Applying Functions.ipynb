{
 "cells": [
  {
   "cell_type": "markdown",
   "id": "a11b57f7",
   "metadata": {},
   "source": [
    "<a target=\"_blank\" href=\"https://colab.research.google.com/github/lukebarousse/Python_Data_Analytics_Course/blob/main/4_Problems/2_10_Pandas Applying Functions.ipynb\">\n",
    "  <img src=\"https://colab.research.google.com/assets/colab-badge.svg\" alt=\"Open In Colab\"/>\n",
    "</a>"
   ]
  },
  {
   "cell_type": "code",
   "execution_count": 1,
   "id": "5ae69c80",
   "metadata": {},
   "outputs": [],
   "source": [
    "# Importing Libraries\n",
    "import pandas as pd\n",
    "from datasets import load_dataset\n",
    "import matplotlib.pyplot as plt  \n",
    "\n",
    "# Loading Data\n",
    "dataset = load_dataset('lukebarousse/data_jobs')\n",
    "df = dataset['train'].to_pandas()\n",
    "\n",
    "# Data Cleanup\n",
    "df['job_posted_date'] = pd.to_datetime(df['job_posted_date'])"
   ]
  },
  {
   "cell_type": "markdown",
   "id": "3510f08a",
   "metadata": {},
   "source": [
    "## 🟩 Convert Date to String (2.10.1)"
   ]
  },
  {
   "cell_type": "code",
   "execution_count": 5,
   "id": "83f9136e",
   "metadata": {},
   "outputs": [
    {
     "data": {
      "text/plain": [
       "'2023-06-16'"
      ]
     },
     "execution_count": 5,
     "metadata": {},
     "output_type": "execute_result"
    }
   ],
   "source": [
    "df_date = df.copy()\n",
    "df_date['job_posted_date_str'] = df_date['job_posted_date'].apply(lambda x: x.strftime('%Y-%m-%d'))\n",
    "df_date[['job_posted_date_str', 'job_posted_date']].head()"
   ]
  },
  {
   "cell_type": "markdown",
   "id": "e7796378",
   "metadata": {},
   "source": [
    "---"
   ]
  },
  {
   "cell_type": "markdown",
   "id": "46bac43e",
   "metadata": {},
   "source": [
    "## 🟨 Days Since Posted (2.10.2)"
   ]
  },
  {
   "cell_type": "code",
   "execution_count": 10,
   "id": "730e04c1",
   "metadata": {},
   "outputs": [
    {
     "name": "stdout",
     "output_type": "stream",
     "text": [
      "2024-07-26 11:50:25.348067\n"
     ]
    },
    {
     "data": {
      "text/html": [
       "<div>\n",
       "<style scoped>\n",
       "    .dataframe tbody tr th:only-of-type {\n",
       "        vertical-align: middle;\n",
       "    }\n",
       "\n",
       "    .dataframe tbody tr th {\n",
       "        vertical-align: top;\n",
       "    }\n",
       "\n",
       "    .dataframe thead th {\n",
       "        text-align: right;\n",
       "    }\n",
       "</style>\n",
       "<table border=\"1\" class=\"dataframe\">\n",
       "  <thead>\n",
       "    <tr style=\"text-align: right;\">\n",
       "      <th></th>\n",
       "      <th>days_since_posted</th>\n",
       "      <th>job_posted_date</th>\n",
       "    </tr>\n",
       "  </thead>\n",
       "  <tbody>\n",
       "    <tr>\n",
       "      <th>0</th>\n",
       "      <td>405</td>\n",
       "      <td>2023-06-16 13:44:15</td>\n",
       "    </tr>\n",
       "    <tr>\n",
       "      <th>1</th>\n",
       "      <td>558</td>\n",
       "      <td>2023-01-14 13:18:07</td>\n",
       "    </tr>\n",
       "    <tr>\n",
       "      <th>2</th>\n",
       "      <td>289</td>\n",
       "      <td>2023-10-10 13:14:55</td>\n",
       "    </tr>\n",
       "    <tr>\n",
       "      <th>3</th>\n",
       "      <td>387</td>\n",
       "      <td>2023-07-04 13:01:41</td>\n",
       "    </tr>\n",
       "    <tr>\n",
       "      <th>4</th>\n",
       "      <td>353</td>\n",
       "      <td>2023-08-07 14:29:36</td>\n",
       "    </tr>\n",
       "  </tbody>\n",
       "</table>\n",
       "</div>"
      ],
      "text/plain": [
       "   days_since_posted     job_posted_date\n",
       "0                405 2023-06-16 13:44:15\n",
       "1                558 2023-01-14 13:18:07\n",
       "2                289 2023-10-10 13:14:55\n",
       "3                387 2023-07-04 13:01:41\n",
       "4                353 2023-08-07 14:29:36"
      ]
     },
     "execution_count": 10,
     "metadata": {},
     "output_type": "execute_result"
    }
   ],
   "source": [
    "import datetime\n",
    "\n",
    "df_current = df.copy()\n",
    "df_current['days_since_posted'] = df_current['job_posted_date'].apply(lambda day: (datetime.datetime.now() - day).days)\n",
    "print(datetime.datetime.now())\n",
    "df_current[['days_since_posted', 'job_posted_date']].head()\n",
    "\n"
   ]
  },
  {
   "cell_type": "markdown",
   "id": "fd9245ae",
   "metadata": {},
   "source": [
    "---"
   ]
  },
  {
   "cell_type": "markdown",
   "id": "f4317b30",
   "metadata": {},
   "source": [
    "## 🟥 Salary Category (2.10.3)"
   ]
  },
  {
   "cell_type": "code",
   "execution_count": 20,
   "id": "56638d70",
   "metadata": {},
   "outputs": [
    {
     "name": "stdout",
     "output_type": "stream",
     "text": [
      "     salary_year_avg salary_category\n",
      "28          109500.0            high\n",
      "77          140000.0            high\n",
      "92          120000.0            high\n",
      "100         228222.0            high\n",
      "109          89000.0          medium\n",
      "116         114000.0            high\n",
      "146         129500.0            high\n",
      "180          90250.0          medium\n",
      "212         157500.0            high\n",
      "257         103128.0            high\n",
      "307         185000.0            high\n",
      "339         195000.0            high\n",
      "380          97500.0          medium\n",
      "388          89000.0          medium\n",
      "410         133285.0            high\n",
      "450         157500.0            high\n",
      "495         168500.0            high\n",
      "520          63000.0          medium\n",
      "545          80000.0          medium\n",
      "571         110000.0            high\n"
     ]
    },
    {
     "data": {
      "text/plain": [
       "<Axes: xlabel='salary_category'>"
      ]
     },
     "execution_count": 20,
     "metadata": {},
     "output_type": "execute_result"
    },
    {
     "data": {
      "image/png": "[encoded data removed]",
      "text/plain": [
       "<Figure size 640x480 with 1 Axes>"
      ]
     },
     "metadata": {},
     "output_type": "display_data"
    }
   ],
   "source": [
    "df_filtered = df[pd.notna(df['salary_year_avg'])].copy()\n",
    "df_filtered['salary_category'] = df_filtered['salary_year_avg'].apply(lambda salary: 'low' if salary < 60000 else 'medium' if salary >= 60000 and salary < 100000 else 'high')\n",
    "print(df_filtered[['salary_year_avg', 'salary_category']].head(20))\n",
    "df_filtered['salary_category'].value_counts().plot(kind='bar')"
   ]
  },
  {
   "cell_type": "markdown",
   "id": "9b0f74eb",
   "metadata": {},
   "source": [
    "---"
   ]
  }
 ],
 "metadata": {
  "kernelspec": {
   "display_name": "python_project",
   "language": "python",
   "name": "python3"
  },
  "language_info": {
   "codemirror_mode": {
    "name": "ipython",
    "version": 3
   },
   "file_extension": ".py",
   "mimetype": "text/x-python",
   "name": "python",
   "nbconvert_exporter": "python",
   "pygments_lexer": "ipython3",
   "version": "3.11.9"
  }
 },
 "nbformat": 4,
 "nbformat_minor": 5
}
