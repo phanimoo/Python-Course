{
 "cells": [
  {
   "cell_type": "markdown",
   "id": "c938f726",
   "metadata": {},
   "source": [
    "<a target=\"_blank\" href=\"https://colab.research.google.com/github/lukebarousse/Python_Data_Analytics_Course/blob/main/4_Problems/2_04_Pandas Pivot Tables.ipynb\">\n",
    "  <img src=\"https://colab.research.google.com/assets/colab-badge.svg\" alt=\"Open In Colab\"/>\n",
    "</a>"
   ]
  },
  {
   "cell_type": "code",
   "execution_count": 22,
   "id": "fa26b1fd",
   "metadata": {},
   "outputs": [],
   "source": [
    "# Importing Libraries\n",
    "import pandas as pd\n",
    "from datasets import load_dataset\n",
    "import matplotlib.pyplot as plt  \n",
    "\n",
    "# Loading Data\n",
    "dataset = load_dataset('lukebarousse/data_jobs')\n",
    "df = dataset['train'].to_pandas()\n",
    "\n",
    "# Data Cleanup\n",
    "df['job_posted_date'] = pd.to_datetime(df['job_posted_date'])"
   ]
  },
  {
   "cell_type": "markdown",
   "id": "d4aeedce",
   "metadata": {},
   "source": [
    "## 🟩 Count Job Postings by Title and Country (2.4.1)"
   ]
  },
  {
   "cell_type": "code",
   "execution_count": 23,
   "id": "32f1208b",
   "metadata": {},
   "outputs": [],
   "source": [
    "pivot = df.pivot_table(index=['job_title_short', 'job_country'], aggfunc='size').head(10).copy()"
   ]
  },
  {
   "cell_type": "markdown",
   "id": "e4d809bb",
   "metadata": {},
   "source": [
    "---"
   ]
  },
  {
   "cell_type": "markdown",
   "id": "00be896a",
   "metadata": {},
   "source": [
    "## 🟨 Salary Stats by Job Title (2.4.2)"
   ]
  },
  {
   "cell_type": "code",
   "execution_count": 24,
   "id": "e8626e94",
   "metadata": {},
   "outputs": [
    {
     "data": {
      "text/html": [
       "<div>\n",
       "<style scoped>\n",
       "    .dataframe tbody tr th:only-of-type {\n",
       "        vertical-align: middle;\n",
       "    }\n",
       "\n",
       "    .dataframe tbody tr th {\n",
       "        vertical-align: top;\n",
       "    }\n",
       "\n",
       "    .dataframe thead tr th {\n",
       "        text-align: left;\n",
       "    }\n",
       "\n",
       "    .dataframe thead tr:last-of-type th {\n",
       "        text-align: right;\n",
       "    }\n",
       "</style>\n",
       "<table border=\"1\" class=\"dataframe\">\n",
       "  <thead>\n",
       "    <tr>\n",
       "      <th></th>\n",
       "      <th>max</th>\n",
       "      <th>min</th>\n",
       "      <th>mean</th>\n",
       "    </tr>\n",
       "    <tr>\n",
       "      <th></th>\n",
       "      <th>salary_year_avg</th>\n",
       "      <th>salary_year_avg</th>\n",
       "      <th>salary_year_avg</th>\n",
       "    </tr>\n",
       "    <tr>\n",
       "      <th>company_name</th>\n",
       "      <th></th>\n",
       "      <th></th>\n",
       "      <th></th>\n",
       "    </tr>\n",
       "  </thead>\n",
       "  <tbody>\n",
       "    <tr>\n",
       "      <th>#twiceasnice Recruiting</th>\n",
       "      <td>120000.000000</td>\n",
       "      <td>61000.000000</td>\n",
       "      <td>77750.000000</td>\n",
       "    </tr>\n",
       "    <tr>\n",
       "      <th>/dev/color</th>\n",
       "      <td>125000.000000</td>\n",
       "      <td>125000.000000</td>\n",
       "      <td>125000.000000</td>\n",
       "    </tr>\n",
       "    <tr>\n",
       "      <th>0nward Select</th>\n",
       "      <td>92500.000000</td>\n",
       "      <td>92500.000000</td>\n",
       "      <td>92500.000000</td>\n",
       "    </tr>\n",
       "    <tr>\n",
       "      <th>1 Point System</th>\n",
       "      <td>137290.484375</td>\n",
       "      <td>137290.484375</td>\n",
       "      <td>137290.484375</td>\n",
       "    </tr>\n",
       "    <tr>\n",
       "      <th>1 Point System LLC.</th>\n",
       "      <td>170000.000000</td>\n",
       "      <td>170000.000000</td>\n",
       "      <td>170000.000000</td>\n",
       "    </tr>\n",
       "  </tbody>\n",
       "</table>\n",
       "</div>"
      ],
      "text/plain": [
       "                                    max             min            mean\n",
       "                        salary_year_avg salary_year_avg salary_year_avg\n",
       "company_name                                                           \n",
       "#twiceasnice Recruiting   120000.000000    61000.000000    77750.000000\n",
       "/dev/color                125000.000000   125000.000000   125000.000000\n",
       "0nward Select              92500.000000    92500.000000    92500.000000\n",
       "1 Point System            137290.484375   137290.484375   137290.484375\n",
       "1 Point System LLC.       170000.000000   170000.000000   170000.000000"
      ]
     },
     "execution_count": 24,
     "metadata": {},
     "output_type": "execute_result"
    }
   ],
   "source": [
    "pivot_table = df.pivot_table(values='salary_year_avg', index='company_name', aggfunc=['max', 'min', 'mean']).copy()\n",
    "pivot_table.head(5)"
   ]
  },
  {
   "cell_type": "markdown",
   "id": "2dc1951b",
   "metadata": {},
   "source": [
    "---"
   ]
  },
  {
   "cell_type": "markdown",
   "id": "69a27730",
   "metadata": {},
   "source": [
    "## 🟥 Sum Salary by Title and Country (2.4.3)"
   ]
  },
  {
   "cell_type": "code",
   "execution_count": 29,
   "id": "2affb01f",
   "metadata": {},
   "outputs": [
    {
     "data": {
      "text/html": [
       "<div>\n",
       "<style scoped>\n",
       "    .dataframe tbody tr th:only-of-type {\n",
       "        vertical-align: middle;\n",
       "    }\n",
       "\n",
       "    .dataframe tbody tr th {\n",
       "        vertical-align: top;\n",
       "    }\n",
       "\n",
       "    .dataframe thead th {\n",
       "        text-align: right;\n",
       "    }\n",
       "</style>\n",
       "<table border=\"1\" class=\"dataframe\">\n",
       "  <thead>\n",
       "    <tr style=\"text-align: right;\">\n",
       "      <th></th>\n",
       "      <th></th>\n",
       "      <th>salary_year_avg</th>\n",
       "    </tr>\n",
       "    <tr>\n",
       "      <th>company_name</th>\n",
       "      <th>job_country</th>\n",
       "      <th></th>\n",
       "    </tr>\n",
       "  </thead>\n",
       "  <tbody>\n",
       "    <tr>\n",
       "      <th rowspan=\"2\" valign=\"top\">ACT</th>\n",
       "      <th>Sudan</th>\n",
       "      <td>225000.0</td>\n",
       "    </tr>\n",
       "    <tr>\n",
       "      <th>United States</th>\n",
       "      <td>225000.0</td>\n",
       "    </tr>\n",
       "    <tr>\n",
       "      <th>Abbott</th>\n",
       "      <th>United States</th>\n",
       "      <td>204000.0</td>\n",
       "    </tr>\n",
       "    <tr>\n",
       "      <th>Airbnb</th>\n",
       "      <th>United States</th>\n",
       "      <td>212500.0</td>\n",
       "    </tr>\n",
       "    <tr>\n",
       "      <th rowspan=\"2\" valign=\"top\">Airtable</th>\n",
       "      <th>Sudan</th>\n",
       "      <td>215500.0</td>\n",
       "    </tr>\n",
       "    <tr>\n",
       "      <th>United States</th>\n",
       "      <td>233500.0</td>\n",
       "    </tr>\n",
       "    <tr>\n",
       "      <th rowspan=\"2\" valign=\"top\">Algo Capital Group</th>\n",
       "      <th>Sudan</th>\n",
       "      <td>325000.0</td>\n",
       "    </tr>\n",
       "    <tr>\n",
       "      <th>United States</th>\n",
       "      <td>350000.0</td>\n",
       "    </tr>\n",
       "    <tr>\n",
       "      <th>Amadeus Search</th>\n",
       "      <th>United States</th>\n",
       "      <td>232500.0</td>\n",
       "    </tr>\n",
       "    <tr>\n",
       "      <th>Analog Devices, Inc</th>\n",
       "      <th>United States</th>\n",
       "      <td>375000.0</td>\n",
       "    </tr>\n",
       "  </tbody>\n",
       "</table>\n",
       "</div>"
      ],
      "text/plain": [
       "                                   salary_year_avg\n",
       "company_name        job_country                   \n",
       "ACT                 Sudan                 225000.0\n",
       "                    United States         225000.0\n",
       "Abbott              United States         204000.0\n",
       "Airbnb              United States         212500.0\n",
       "Airtable            Sudan                 215500.0\n",
       "                    United States         233500.0\n",
       "Algo Capital Group  Sudan                 325000.0\n",
       "                    United States         350000.0\n",
       "Amadeus Search      United States         232500.0\n",
       "Analog Devices, Inc United States         375000.0"
      ]
     },
     "execution_count": 29,
     "metadata": {},
     "output_type": "execute_result"
    }
   ],
   "source": [
    "df_filtered = df.loc['Data Scientist' == df['job_title_short']].copy()\n",
    "pivot_table = df_filtered.pivot_table(values='salary_year_avg', index=['company_name', 'job_country'], aggfunc='median')\n",
    "pivot_table = pivot_table[pivot_table['salary_year_avg'] > 200000]\n",
    "pivot_table.head(10)"
   ]
  },
  {
   "cell_type": "markdown",
   "id": "a358d02d",
   "metadata": {},
   "source": [
    "---"
   ]
  }
 ],
 "metadata": {
  "kernelspec": {
   "display_name": "python_project",
   "language": "python",
   "name": "python3"
  },
  "language_info": {
   "codemirror_mode": {
    "name": "ipython",
    "version": 3
   },
   "file_extension": ".py",
   "mimetype": "text/x-python",
   "name": "python",
   "nbconvert_exporter": "python",
   "pygments_lexer": "ipython3",
   "version": "3.11.9"
  }
 },
 "nbformat": 4,
 "nbformat_minor": 5
}
