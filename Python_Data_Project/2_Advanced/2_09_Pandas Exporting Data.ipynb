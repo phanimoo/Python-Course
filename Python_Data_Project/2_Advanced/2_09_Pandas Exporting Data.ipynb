{
 "cells": [
  {
   "cell_type": "markdown",
   "id": "5f611dec",
   "metadata": {},
   "source": [
    "<a target=\"_blank\" href=\"https://colab.research.google.com/github/lukebarousse/Python_Data_Analytics_Course/blob/main/4_Problems/2_09_Pandas Exporting Data.ipynb\">\n",
    "  <img src=\"https://colab.research.google.com/assets/colab-badge.svg\" alt=\"Open In Colab\"/>\n",
    "</a>"
   ]
  },
  {
   "cell_type": "code",
   "execution_count": 1,
   "id": "56314e2e",
   "metadata": {},
   "outputs": [],
   "source": [
    "# Importing Libraries\n",
    "import pandas as pd\n",
    "from datasets import load_dataset\n",
    "import matplotlib.pyplot as plt  \n",
    "\n",
    "# Loading Data\n",
    "dataset = load_dataset('lukebarousse/data_jobs')\n",
    "df = dataset['train'].to_pandas()\n",
    "\n",
    "# Data Cleanup\n",
    "df['job_posted_date'] = pd.to_datetime(df['job_posted_date'])"
   ]
  },
  {
   "cell_type": "markdown",
   "id": "305d444b",
   "metadata": {},
   "source": [
    "## 🟩 Export to CSV (2.9.1)"
   ]
  },
  {
   "cell_type": "code",
   "execution_count": 3,
   "id": "21511e09",
   "metadata": {},
   "outputs": [],
   "source": [
    "df.to_csv('data_jobs_export.csv', index=False)"
   ]
  },
  {
   "cell_type": "markdown",
   "id": "b31df39f",
   "metadata": {},
   "source": [
    "---"
   ]
  },
  {
   "cell_type": "markdown",
   "id": "a69496cd",
   "metadata": {},
   "source": [
    "## 🟨 Filter and Export to CSV (2.9.2)"
   ]
  },
  {
   "cell_type": "code",
   "execution_count": 5,
   "id": "0c108c5d",
   "metadata": {},
   "outputs": [],
   "source": [
    "df_data_scientist = df[df['job_title_short'] == 'Data Scientist']\n",
    "df_data_scientist.to_csv('data_scientist_export.csv', index=False)"
   ]
  },
  {
   "cell_type": "markdown",
   "id": "792e3d8b",
   "metadata": {},
   "source": [
    "---"
   ]
  },
  {
   "cell_type": "markdown",
   "id": "12f0ff69",
   "metadata": {},
   "source": [
    "## 🟥 Export to Excel (2.9.3)"
   ]
  },
  {
   "cell_type": "code",
   "execution_count": 2,
   "id": "d9b12a90",
   "metadata": {},
   "outputs": [],
   "source": [
    "# Run the following in your terminal to install the library to export to Excel\n",
    "# conda install openpyxl"
   ]
  },
  {
   "cell_type": "code",
   "execution_count": 8,
   "id": "ecee8e56",
   "metadata": {},
   "outputs": [
    {
     "data": {
      "text/html": [
       "<div>\n",
       "<style scoped>\n",
       "    .dataframe tbody tr th:only-of-type {\n",
       "        vertical-align: middle;\n",
       "    }\n",
       "\n",
       "    .dataframe tbody tr th {\n",
       "        vertical-align: top;\n",
       "    }\n",
       "\n",
       "    .dataframe thead th {\n",
       "        text-align: right;\n",
       "    }\n",
       "</style>\n",
       "<table border=\"1\" class=\"dataframe\">\n",
       "  <thead>\n",
       "    <tr style=\"text-align: right;\">\n",
       "      <th></th>\n",
       "      <th>job_title_short</th>\n",
       "      <th>job_title</th>\n",
       "      <th>job_location</th>\n",
       "      <th>job_via</th>\n",
       "      <th>job_schedule_type</th>\n",
       "      <th>job_work_from_home</th>\n",
       "      <th>search_location</th>\n",
       "      <th>job_posted_date</th>\n",
       "      <th>job_no_degree_mention</th>\n",
       "      <th>job_health_insurance</th>\n",
       "      <th>job_country</th>\n",
       "      <th>salary_rate</th>\n",
       "      <th>salary_year_avg</th>\n",
       "      <th>salary_hour_avg</th>\n",
       "      <th>company_name</th>\n",
       "      <th>job_skills</th>\n",
       "      <th>job_type_skills</th>\n",
       "    </tr>\n",
       "  </thead>\n",
       "  <tbody>\n",
       "    <tr>\n",
       "      <th>13</th>\n",
       "      <td>Senior Data Engineer</td>\n",
       "      <td>Senior Data Engineer</td>\n",
       "      <td>New York, NY</td>\n",
       "      <td>via LinkedIn</td>\n",
       "      <td>Full-time</td>\n",
       "      <td>False</td>\n",
       "      <td>Texas, United States</td>\n",
       "      <td>2023-11-15 13:08:52</td>\n",
       "      <td>True</td>\n",
       "      <td>True</td>\n",
       "      <td>United States</td>\n",
       "      <td>None</td>\n",
       "      <td>NaN</td>\n",
       "      <td>NaN</td>\n",
       "      <td>Nayya</td>\n",
       "      <td>['python', 'sql', 'go', 'ruby', 'ruby', 'javas...</td>\n",
       "      <td>{'cloud': ['aws'], 'other': ['terraform'], 'pr...</td>\n",
       "    </tr>\n",
       "    <tr>\n",
       "      <th>126</th>\n",
       "      <td>Data Engineer</td>\n",
       "      <td>Data Engineer</td>\n",
       "      <td>New York, NY</td>\n",
       "      <td>via LinkedIn</td>\n",
       "      <td>Full-time</td>\n",
       "      <td>False</td>\n",
       "      <td>New York, United States</td>\n",
       "      <td>2023-05-08 13:08:15</td>\n",
       "      <td>False</td>\n",
       "      <td>True</td>\n",
       "      <td>United States</td>\n",
       "      <td>None</td>\n",
       "      <td>NaN</td>\n",
       "      <td>NaN</td>\n",
       "      <td>Career Search Partners</td>\n",
       "      <td>['sql', 'python', 'sql server', 'excel', 'flow...</td>\n",
       "      <td>{'analyst_tools': ['excel'], 'databases': ['sq...</td>\n",
       "    </tr>\n",
       "    <tr>\n",
       "      <th>177</th>\n",
       "      <td>Senior Data Engineer</td>\n",
       "      <td>Cyber Senior Data Engineer</td>\n",
       "      <td>New York, NY</td>\n",
       "      <td>via LinkedIn</td>\n",
       "      <td>Full-time</td>\n",
       "      <td>False</td>\n",
       "      <td>Illinois, United States</td>\n",
       "      <td>2023-12-22 13:06:34</td>\n",
       "      <td>False</td>\n",
       "      <td>False</td>\n",
       "      <td>United States</td>\n",
       "      <td>None</td>\n",
       "      <td>NaN</td>\n",
       "      <td>NaN</td>\n",
       "      <td>New York City Office of Technology &amp; Innovation</td>\n",
       "      <td>['java', 'python', 'r', 'gcp', 'aws', 'azure',...</td>\n",
       "      <td>{'cloud': ['gcp', 'aws', 'azure'], 'libraries'...</td>\n",
       "    </tr>\n",
       "    <tr>\n",
       "      <th>230</th>\n",
       "      <td>Data Analyst</td>\n",
       "      <td>Financial Systems – Business Analyst/ Data Ana...</td>\n",
       "      <td>New York, NY</td>\n",
       "      <td>via Redstream Technology</td>\n",
       "      <td>Full-time</td>\n",
       "      <td>False</td>\n",
       "      <td>New York, United States</td>\n",
       "      <td>2023-06-25 13:00:01</td>\n",
       "      <td>False</td>\n",
       "      <td>False</td>\n",
       "      <td>United States</td>\n",
       "      <td>None</td>\n",
       "      <td>NaN</td>\n",
       "      <td>NaN</td>\n",
       "      <td>RedStream Technology</td>\n",
       "      <td>['sql', 'excel', 'visio', 'powerpoint', 'word']</td>\n",
       "      <td>{'analyst_tools': ['excel', 'visio', 'powerpoi...</td>\n",
       "    </tr>\n",
       "    <tr>\n",
       "      <th>502</th>\n",
       "      <td>Data Analyst</td>\n",
       "      <td>Reporting Data Analyst</td>\n",
       "      <td>New York, NY</td>\n",
       "      <td>via ZipRecruiter</td>\n",
       "      <td>Full-time</td>\n",
       "      <td>False</td>\n",
       "      <td>New York, United States</td>\n",
       "      <td>2023-10-18 13:00:14</td>\n",
       "      <td>True</td>\n",
       "      <td>False</td>\n",
       "      <td>United States</td>\n",
       "      <td>None</td>\n",
       "      <td>NaN</td>\n",
       "      <td>NaN</td>\n",
       "      <td>Arsenault</td>\n",
       "      <td>['sql', 'excel', 'microstrategy']</td>\n",
       "      <td>{'analyst_tools': ['excel', 'microstrategy'], ...</td>\n",
       "    </tr>\n",
       "  </tbody>\n",
       "</table>\n",
       "</div>"
      ],
      "text/plain": [
       "          job_title_short                                          job_title  \\\n",
       "13   Senior Data Engineer                               Senior Data Engineer   \n",
       "126         Data Engineer                                      Data Engineer   \n",
       "177  Senior Data Engineer                         Cyber Senior Data Engineer   \n",
       "230          Data Analyst  Financial Systems – Business Analyst/ Data Ana...   \n",
       "502          Data Analyst                             Reporting Data Analyst   \n",
       "\n",
       "     job_location                   job_via job_schedule_type  \\\n",
       "13   New York, NY              via LinkedIn         Full-time   \n",
       "126  New York, NY              via LinkedIn         Full-time   \n",
       "177  New York, NY              via LinkedIn         Full-time   \n",
       "230  New York, NY  via Redstream Technology         Full-time   \n",
       "502  New York, NY          via ZipRecruiter         Full-time   \n",
       "\n",
       "     job_work_from_home          search_location     job_posted_date  \\\n",
       "13                False     Texas, United States 2023-11-15 13:08:52   \n",
       "126               False  New York, United States 2023-05-08 13:08:15   \n",
       "177               False  Illinois, United States 2023-12-22 13:06:34   \n",
       "230               False  New York, United States 2023-06-25 13:00:01   \n",
       "502               False  New York, United States 2023-10-18 13:00:14   \n",
       "\n",
       "     job_no_degree_mention  job_health_insurance    job_country salary_rate  \\\n",
       "13                    True                  True  United States        None   \n",
       "126                  False                  True  United States        None   \n",
       "177                  False                 False  United States        None   \n",
       "230                  False                 False  United States        None   \n",
       "502                   True                 False  United States        None   \n",
       "\n",
       "     salary_year_avg  salary_hour_avg  \\\n",
       "13               NaN              NaN   \n",
       "126              NaN              NaN   \n",
       "177              NaN              NaN   \n",
       "230              NaN              NaN   \n",
       "502              NaN              NaN   \n",
       "\n",
       "                                        company_name  \\\n",
       "13                                             Nayya   \n",
       "126                           Career Search Partners   \n",
       "177  New York City Office of Technology & Innovation   \n",
       "230                             RedStream Technology   \n",
       "502                                        Arsenault   \n",
       "\n",
       "                                            job_skills  \\\n",
       "13   ['python', 'sql', 'go', 'ruby', 'ruby', 'javas...   \n",
       "126  ['sql', 'python', 'sql server', 'excel', 'flow...   \n",
       "177  ['java', 'python', 'r', 'gcp', 'aws', 'azure',...   \n",
       "230    ['sql', 'excel', 'visio', 'powerpoint', 'word']   \n",
       "502                  ['sql', 'excel', 'microstrategy']   \n",
       "\n",
       "                                       job_type_skills  \n",
       "13   {'cloud': ['aws'], 'other': ['terraform'], 'pr...  \n",
       "126  {'analyst_tools': ['excel'], 'databases': ['sq...  \n",
       "177  {'cloud': ['gcp', 'aws', 'azure'], 'libraries'...  \n",
       "230  {'analyst_tools': ['excel', 'visio', 'powerpoi...  \n",
       "502  {'analyst_tools': ['excel', 'microstrategy'], ...  "
      ]
     },
     "execution_count": 8,
     "metadata": {},
     "output_type": "execute_result"
    }
   ],
   "source": [
    "df_ny = df[df['job_location'] == 'New York, NY']\n",
    "df_ny.to_excel('data_jobs_ny.xlsx', index=False)\n",
    "df_ny.head()"
   ]
  },
  {
   "cell_type": "markdown",
   "id": "62bf636c",
   "metadata": {},
   "source": [
    "---"
   ]
  }
 ],
 "metadata": {
  "kernelspec": {
   "display_name": "python_course",
   "language": "python",
   "name": "python3"
  },
  "language_info": {
   "codemirror_mode": {
    "name": "ipython",
    "version": 3
   },
   "file_extension": ".py",
   "mimetype": "text/x-python",
   "name": "python",
   "nbconvert_exporter": "python",
   "pygments_lexer": "ipython3",
   "version": "3.11.9"
  }
 },
 "nbformat": 4,
 "nbformat_minor": 5
}
