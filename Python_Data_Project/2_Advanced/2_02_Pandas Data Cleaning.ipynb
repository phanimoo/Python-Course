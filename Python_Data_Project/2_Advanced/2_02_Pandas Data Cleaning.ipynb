{
 "cells": [
  {
   "cell_type": "markdown",
   "id": "50249611",
   "metadata": {},
   "source": [
    "<a target=\"_blank\" href=\"https://colab.research.google.com/github/lukebarousse/Python_Data_Analytics_Course/blob/main/4_Problems/2_02_Pandas Data Cleaning.ipynb\">\n",
    "  <img src=\"https://colab.research.google.com/assets/colab-badge.svg\" alt=\"Open In Colab\"/>\n",
    "</a>"
   ]
  },
  {
   "cell_type": "code",
   "execution_count": 1,
   "id": "f0929e6d",
   "metadata": {},
   "outputs": [
    {
     "name": "stderr",
     "output_type": "stream",
     "text": [
      "/opt/anaconda3/envs/python_project/lib/python3.11/site-packages/tqdm/auto.py:21: TqdmWarning: IProgress not found. Please update jupyter and ipywidgets. See https://ipywidgets.readthedocs.io/en/stable/user_install.html\n",
      "  from .autonotebook import tqdm as notebook_tqdm\n"
     ]
    }
   ],
   "source": [
    "# Importing Libraries\n",
    "import pandas as pd\n",
    "from datasets import load_dataset\n",
    "import matplotlib.pyplot as plt  \n",
    "\n",
    "# Loading Data\n",
    "dataset = load_dataset('lukebarousse/data_jobs')\n",
    "df = dataset['train'].to_pandas()\n",
    "\n",
    "# Data Cleanup\n",
    "df['job_posted_date'] = pd.to_datetime(df['job_posted_date'])"
   ]
  },
  {
   "cell_type": "markdown",
   "id": "7e5d8211",
   "metadata": {},
   "source": [
    "## 🟩 Remove Rows with Missing Values (2.2.1)"
   ]
  },
  {
   "cell_type": "code",
   "execution_count": 3,
   "id": "4b8bc3c2",
   "metadata": {},
   "outputs": [
    {
     "data": {
      "text/plain": [
       "(785741, 22003)"
      ]
     },
     "execution_count": 3,
     "metadata": {},
     "output_type": "execute_result"
    }
   ],
   "source": [
    "rows_before = len(df)\n",
    "\n",
    "df_cleaned = df.dropna(subset=['salary_year_avg'])\n",
    "rows_after = len(df_cleaned)\n",
    "\n",
    "rows_before, rows_after"
   ]
  },
  {
   "cell_type": "markdown",
   "id": "a148127f",
   "metadata": {},
   "source": [
    "---"
   ]
  },
  {
   "cell_type": "markdown",
   "id": "eaf03dda",
   "metadata": {},
   "source": [
    "## 🟨 Remove Duplicate Rows (2.2.2)"
   ]
  },
  {
   "cell_type": "code",
   "execution_count": 4,
   "id": "ae6ad853",
   "metadata": {},
   "outputs": [
    {
     "data": {
      "text/plain": [
       "(785741, 17218)"
      ]
     },
     "execution_count": 4,
     "metadata": {},
     "output_type": "execute_result"
    }
   ],
   "source": [
    "rows_before = len(df)\n",
    "\n",
    "df_cleaned = df.drop_duplicates(subset='job_location')\n",
    "rows_after = len(df_cleaned)\n",
    "\n",
    "rows_before, rows_after"
   ]
  },
  {
   "cell_type": "markdown",
   "id": "472bfc70",
   "metadata": {},
   "source": [
    "---"
   ]
  },
  {
   "cell_type": "markdown",
   "id": "e26a84d6",
   "metadata": {},
   "source": [
    "## 🟨 Fill Missing Values in Column (2.2.3)"
   ]
  },
  {
   "cell_type": "code",
   "execution_count": 14,
   "id": "b96b4fe1",
   "metadata": {},
   "outputs": [
    {
     "name": "stdout",
     "output_type": "stream",
     "text": [
      "0     None\n",
      "1     None\n",
      "2     None\n",
      "3     None\n",
      "4     None\n",
      "5     None\n",
      "6     None\n",
      "7     None\n",
      "8     None\n",
      "9     None\n",
      "10    None\n",
      "Name: salary_rate, dtype: object\n"
     ]
    },
    {
     "data": {
      "text/plain": [
       "0     Unknown\n",
       "1     Unknown\n",
       "2     Unknown\n",
       "3     Unknown\n",
       "4     Unknown\n",
       "5     Unknown\n",
       "6     Unknown\n",
       "7     Unknown\n",
       "8     Unknown\n",
       "9     Unknown\n",
       "10    Unknown\n",
       "Name: salary_rate, dtype: object"
      ]
     },
     "execution_count": 14,
     "metadata": {},
     "output_type": "execute_result"
    }
   ],
   "source": [
    "salary_filled = df['salary_rate'].fillna('Unknown')\n",
    "print(df['salary_rate'].loc[:10])\n",
    "salary_filled.loc[:10]"
   ]
  },
  {
   "cell_type": "markdown",
   "id": "4ab1c267",
   "metadata": {},
   "source": [
    "---"
   ]
  }
 ],
 "metadata": {
  "kernelspec": {
   "display_name": "python_project",
   "language": "python",
   "name": "python3"
  },
  "language_info": {
   "codemirror_mode": {
    "name": "ipython",
    "version": 3
   },
   "file_extension": ".py",
   "mimetype": "text/x-python",
   "name": "python",
   "nbconvert_exporter": "python",
   "pygments_lexer": "ipython3",
   "version": "3.11.9"
  }
 },
 "nbformat": 4,
 "nbformat_minor": 5
}
